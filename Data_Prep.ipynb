{
 "cells": [
  {
   "cell_type": "code",
   "execution_count": 27,
   "id": "46265e97",
   "metadata": {},
   "outputs": [],
   "source": [
    "import pandas as pd\n",
    "import numpy as np\n",
    "from sqlalchemy import create_engine, inspect\n",
    "import matplotlib.pyplot as plt\n",
    "from sqlalchemy.types import VARCHAR, INTEGER, FLOAT, DATETIME"
   ]
  },
  {
   "cell_type": "code",
   "execution_count": 2,
   "id": "d14179ca",
   "metadata": {},
   "outputs": [],
   "source": [
    "#Set file path for csv\n",
    "filepath = 'minneapolis_st_paul_weather_data_to_2023.csv'"
   ]
  },
  {
   "cell_type": "code",
   "execution_count": 3,
   "id": "69843151",
   "metadata": {},
   "outputs": [],
   "source": [
    "#Read in CSV and store to dateframe\n",
    "df = pd.read_csv(filepath)"
   ]
  },
  {
   "cell_type": "code",
   "execution_count": 4,
   "id": "a93d8c83",
   "metadata": {},
   "outputs": [
    {
     "data": {
      "text/plain": [
       "Date                               object\n",
       "Maximum Temperature degrees (F)    object\n",
       "Minimum Temperature degrees (F)    object\n",
       "Precipitation (inches)             object\n",
       "Snow (inches)                      object\n",
       "Snow Depth (inches)                object\n",
       "dtype: object"
      ]
     },
     "execution_count": 4,
     "metadata": {},
     "output_type": "execute_result"
    }
   ],
   "source": [
    "#check data types\n",
    "df.dtypes"
   ]
  },
  {
   "cell_type": "code",
   "execution_count": 5,
   "id": "20ed5898",
   "metadata": {},
   "outputs": [
    {
     "data": {
      "text/html": [
       "<div>\n",
       "<style scoped>\n",
       "    .dataframe tbody tr th:only-of-type {\n",
       "        vertical-align: middle;\n",
       "    }\n",
       "\n",
       "    .dataframe tbody tr th {\n",
       "        vertical-align: top;\n",
       "    }\n",
       "\n",
       "    .dataframe thead th {\n",
       "        text-align: right;\n",
       "    }\n",
       "</style>\n",
       "<table border=\"1\" class=\"dataframe\">\n",
       "  <thead>\n",
       "    <tr style=\"text-align: right;\">\n",
       "      <th></th>\n",
       "      <th>Date</th>\n",
       "      <th>Maximum Temperature degrees (F)</th>\n",
       "      <th>Minimum Temperature degrees (F)</th>\n",
       "      <th>Precipitation (inches)</th>\n",
       "      <th>Snow (inches)</th>\n",
       "      <th>Snow Depth (inches)</th>\n",
       "    </tr>\n",
       "  </thead>\n",
       "  <tbody>\n",
       "    <tr>\n",
       "      <th>0</th>\n",
       "      <td>4/9/2023</td>\n",
       "      <td>66</td>\n",
       "      <td>47</td>\n",
       "      <td>T</td>\n",
       "      <td>0.00</td>\n",
       "      <td>T</td>\n",
       "    </tr>\n",
       "    <tr>\n",
       "      <th>1</th>\n",
       "      <td>4/8/2023</td>\n",
       "      <td>67</td>\n",
       "      <td>37</td>\n",
       "      <td>0.00</td>\n",
       "      <td>0.00</td>\n",
       "      <td>T</td>\n",
       "    </tr>\n",
       "    <tr>\n",
       "      <th>2</th>\n",
       "      <td>4/7/2023</td>\n",
       "      <td>51</td>\n",
       "      <td>26</td>\n",
       "      <td>0.00</td>\n",
       "      <td>0.00</td>\n",
       "      <td>T</td>\n",
       "    </tr>\n",
       "    <tr>\n",
       "      <th>3</th>\n",
       "      <td>4/6/2023</td>\n",
       "      <td>38</td>\n",
       "      <td>22</td>\n",
       "      <td>0.00</td>\n",
       "      <td>0.00</td>\n",
       "      <td>T</td>\n",
       "    </tr>\n",
       "    <tr>\n",
       "      <th>4</th>\n",
       "      <td>4/5/2023</td>\n",
       "      <td>37</td>\n",
       "      <td>25</td>\n",
       "      <td>0.01</td>\n",
       "      <td>T</td>\n",
       "      <td>T</td>\n",
       "    </tr>\n",
       "  </tbody>\n",
       "</table>\n",
       "</div>"
      ],
      "text/plain": [
       "       Date Maximum Temperature degrees (F) Minimum Temperature degrees (F)  \\\n",
       "0  4/9/2023                              66                              47   \n",
       "1  4/8/2023                              67                              37   \n",
       "2  4/7/2023                              51                              26   \n",
       "3  4/6/2023                              38                              22   \n",
       "4  4/5/2023                              37                              25   \n",
       "\n",
       "  Precipitation (inches) Snow (inches) Snow Depth (inches)  \n",
       "0                      T          0.00                   T  \n",
       "1                   0.00          0.00                   T  \n",
       "2                   0.00          0.00                   T  \n",
       "3                   0.00          0.00                   T  \n",
       "4                   0.01             T                   T  "
      ]
     },
     "execution_count": 5,
     "metadata": {},
     "output_type": "execute_result"
    }
   ],
   "source": [
    "df.head()"
   ]
  },
  {
   "cell_type": "code",
   "execution_count": 6,
   "id": "335ff24b",
   "metadata": {},
   "outputs": [],
   "source": [
    "#Replace Trace values with 0s, Ms with NaN\n",
    "df = df.replace({'T':'0','M':np.nan})"
   ]
  },
  {
   "cell_type": "code",
   "execution_count": null,
   "id": "6b186361",
   "metadata": {},
   "outputs": [],
   "source": []
  },
  {
   "cell_type": "code",
   "execution_count": 7,
   "id": "50443ef5",
   "metadata": {},
   "outputs": [],
   "source": [
    "#Drop NAs\n",
    "df = df.dropna()"
   ]
  },
  {
   "cell_type": "code",
   "execution_count": 8,
   "id": "36fee68d",
   "metadata": {},
   "outputs": [],
   "source": [
    "#Change data types for each field\n",
    "df['Date'] = pd.to_datetime(df['Date'])\n",
    "df['Maximum Temperature degrees (F)'] = df['Maximum Temperature degrees (F)'].astype('int64')\n",
    "df['Minimum Temperature degrees (F)'] = df['Minimum Temperature degrees (F)'].astype('int64')\n",
    "df['Snow (inches)'] = df['Snow (inches)'].astype('float64')\n",
    "df['Precipitation (inches)'] = df['Precipitation (inches)'].astype('float64')\n",
    "df['Snow Depth (inches)'] = df['Snow Depth (inches)'].astype('float64')"
   ]
  },
  {
   "cell_type": "code",
   "execution_count": 9,
   "id": "c6997137",
   "metadata": {},
   "outputs": [
    {
     "data": {
      "text/plain": [
       "Date                               datetime64[ns]\n",
       "Maximum Temperature degrees (F)             int64\n",
       "Minimum Temperature degrees (F)             int64\n",
       "Precipitation (inches)                    float64\n",
       "Snow (inches)                             float64\n",
       "Snow Depth (inches)                       float64\n",
       "dtype: object"
      ]
     },
     "execution_count": 9,
     "metadata": {},
     "output_type": "execute_result"
    }
   ],
   "source": [
    "#Check data types were converted\n",
    "df.dtypes"
   ]
  },
  {
   "cell_type": "code",
   "execution_count": 10,
   "id": "91b3a7aa",
   "metadata": {},
   "outputs": [],
   "source": [
    "#Change Column Names\n",
    "df = df.rename(columns={'Maximum Temperature degrees (F)':'MaxTemp',\n",
    "                        'Minimum Temperature degrees (F)':'MinTemp',\n",
    "                        'Snow (inches)':'SnowFall',\n",
    "                        'Precipitation (inches)':'Precipitation',\n",
    "                        'Snow Depth (inches)':'SnowDepth'})"
   ]
  },
  {
   "cell_type": "code",
   "execution_count": 11,
   "id": "68133da9",
   "metadata": {},
   "outputs": [
    {
     "data": {
      "text/html": [
       "<div>\n",
       "<style scoped>\n",
       "    .dataframe tbody tr th:only-of-type {\n",
       "        vertical-align: middle;\n",
       "    }\n",
       "\n",
       "    .dataframe tbody tr th {\n",
       "        vertical-align: top;\n",
       "    }\n",
       "\n",
       "    .dataframe thead th {\n",
       "        text-align: right;\n",
       "    }\n",
       "</style>\n",
       "<table border=\"1\" class=\"dataframe\">\n",
       "  <thead>\n",
       "    <tr style=\"text-align: right;\">\n",
       "      <th></th>\n",
       "      <th>Date</th>\n",
       "      <th>MaxTemp</th>\n",
       "      <th>MinTemp</th>\n",
       "      <th>Precipitation</th>\n",
       "      <th>SnowFall</th>\n",
       "      <th>SnowDepth</th>\n",
       "    </tr>\n",
       "  </thead>\n",
       "  <tbody>\n",
       "    <tr>\n",
       "      <th>0</th>\n",
       "      <td>2023-04-09</td>\n",
       "      <td>66</td>\n",
       "      <td>47</td>\n",
       "      <td>0.00</td>\n",
       "      <td>0.0</td>\n",
       "      <td>0.0</td>\n",
       "    </tr>\n",
       "    <tr>\n",
       "      <th>1</th>\n",
       "      <td>2023-04-08</td>\n",
       "      <td>67</td>\n",
       "      <td>37</td>\n",
       "      <td>0.00</td>\n",
       "      <td>0.0</td>\n",
       "      <td>0.0</td>\n",
       "    </tr>\n",
       "    <tr>\n",
       "      <th>2</th>\n",
       "      <td>2023-04-07</td>\n",
       "      <td>51</td>\n",
       "      <td>26</td>\n",
       "      <td>0.00</td>\n",
       "      <td>0.0</td>\n",
       "      <td>0.0</td>\n",
       "    </tr>\n",
       "    <tr>\n",
       "      <th>3</th>\n",
       "      <td>2023-04-06</td>\n",
       "      <td>38</td>\n",
       "      <td>22</td>\n",
       "      <td>0.00</td>\n",
       "      <td>0.0</td>\n",
       "      <td>0.0</td>\n",
       "    </tr>\n",
       "    <tr>\n",
       "      <th>4</th>\n",
       "      <td>2023-04-05</td>\n",
       "      <td>37</td>\n",
       "      <td>25</td>\n",
       "      <td>0.01</td>\n",
       "      <td>0.0</td>\n",
       "      <td>0.0</td>\n",
       "    </tr>\n",
       "    <tr>\n",
       "      <th>...</th>\n",
       "      <td>...</td>\n",
       "      <td>...</td>\n",
       "      <td>...</td>\n",
       "      <td>...</td>\n",
       "      <td>...</td>\n",
       "      <td>...</td>\n",
       "    </tr>\n",
       "    <tr>\n",
       "      <th>45384</th>\n",
       "      <td>1899-01-05</td>\n",
       "      <td>13</td>\n",
       "      <td>-5</td>\n",
       "      <td>0.00</td>\n",
       "      <td>0.0</td>\n",
       "      <td>3.0</td>\n",
       "    </tr>\n",
       "    <tr>\n",
       "      <th>45385</th>\n",
       "      <td>1899-01-04</td>\n",
       "      <td>22</td>\n",
       "      <td>0</td>\n",
       "      <td>0.00</td>\n",
       "      <td>0.0</td>\n",
       "      <td>3.0</td>\n",
       "    </tr>\n",
       "    <tr>\n",
       "      <th>45386</th>\n",
       "      <td>1899-01-03</td>\n",
       "      <td>32</td>\n",
       "      <td>21</td>\n",
       "      <td>0.00</td>\n",
       "      <td>0.0</td>\n",
       "      <td>3.0</td>\n",
       "    </tr>\n",
       "    <tr>\n",
       "      <th>45387</th>\n",
       "      <td>1899-01-02</td>\n",
       "      <td>29</td>\n",
       "      <td>10</td>\n",
       "      <td>0.00</td>\n",
       "      <td>0.0</td>\n",
       "      <td>3.0</td>\n",
       "    </tr>\n",
       "    <tr>\n",
       "      <th>45388</th>\n",
       "      <td>1899-01-01</td>\n",
       "      <td>11</td>\n",
       "      <td>-12</td>\n",
       "      <td>0.00</td>\n",
       "      <td>0.0</td>\n",
       "      <td>3.0</td>\n",
       "    </tr>\n",
       "  </tbody>\n",
       "</table>\n",
       "<p>45348 rows × 6 columns</p>\n",
       "</div>"
      ],
      "text/plain": [
       "            Date  MaxTemp  MinTemp  Precipitation  SnowFall  SnowDepth\n",
       "0     2023-04-09       66       47           0.00       0.0        0.0\n",
       "1     2023-04-08       67       37           0.00       0.0        0.0\n",
       "2     2023-04-07       51       26           0.00       0.0        0.0\n",
       "3     2023-04-06       38       22           0.00       0.0        0.0\n",
       "4     2023-04-05       37       25           0.01       0.0        0.0\n",
       "...          ...      ...      ...            ...       ...        ...\n",
       "45384 1899-01-05       13       -5           0.00       0.0        3.0\n",
       "45385 1899-01-04       22        0           0.00       0.0        3.0\n",
       "45386 1899-01-03       32       21           0.00       0.0        3.0\n",
       "45387 1899-01-02       29       10           0.00       0.0        3.0\n",
       "45388 1899-01-01       11      -12           0.00       0.0        3.0\n",
       "\n",
       "[45348 rows x 6 columns]"
      ]
     },
     "execution_count": 11,
     "metadata": {},
     "output_type": "execute_result"
    }
   ],
   "source": [
    "#Check Column Names\n",
    "df"
   ]
  },
  {
   "cell_type": "code",
   "execution_count": 12,
   "id": "8cffbfdd",
   "metadata": {},
   "outputs": [],
   "source": [
    "#Add a month and year column\n",
    "df['Year'] = df['Date'].dt.year\n",
    "df['Month'] = df['Date'].dt.month\n"
   ]
  },
  {
   "cell_type": "code",
   "execution_count": 13,
   "id": "b4b04892",
   "metadata": {},
   "outputs": [
    {
     "data": {
      "text/html": [
       "<div>\n",
       "<style scoped>\n",
       "    .dataframe tbody tr th:only-of-type {\n",
       "        vertical-align: middle;\n",
       "    }\n",
       "\n",
       "    .dataframe tbody tr th {\n",
       "        vertical-align: top;\n",
       "    }\n",
       "\n",
       "    .dataframe thead th {\n",
       "        text-align: right;\n",
       "    }\n",
       "</style>\n",
       "<table border=\"1\" class=\"dataframe\">\n",
       "  <thead>\n",
       "    <tr style=\"text-align: right;\">\n",
       "      <th></th>\n",
       "      <th>Date</th>\n",
       "      <th>MaxTemp</th>\n",
       "      <th>MinTemp</th>\n",
       "      <th>Precipitation</th>\n",
       "      <th>SnowFall</th>\n",
       "      <th>SnowDepth</th>\n",
       "      <th>Year</th>\n",
       "      <th>Month</th>\n",
       "    </tr>\n",
       "  </thead>\n",
       "  <tbody>\n",
       "    <tr>\n",
       "      <th>0</th>\n",
       "      <td>2023-04-09</td>\n",
       "      <td>66</td>\n",
       "      <td>47</td>\n",
       "      <td>0.00</td>\n",
       "      <td>0.0</td>\n",
       "      <td>0.0</td>\n",
       "      <td>2023</td>\n",
       "      <td>4</td>\n",
       "    </tr>\n",
       "    <tr>\n",
       "      <th>1</th>\n",
       "      <td>2023-04-08</td>\n",
       "      <td>67</td>\n",
       "      <td>37</td>\n",
       "      <td>0.00</td>\n",
       "      <td>0.0</td>\n",
       "      <td>0.0</td>\n",
       "      <td>2023</td>\n",
       "      <td>4</td>\n",
       "    </tr>\n",
       "    <tr>\n",
       "      <th>2</th>\n",
       "      <td>2023-04-07</td>\n",
       "      <td>51</td>\n",
       "      <td>26</td>\n",
       "      <td>0.00</td>\n",
       "      <td>0.0</td>\n",
       "      <td>0.0</td>\n",
       "      <td>2023</td>\n",
       "      <td>4</td>\n",
       "    </tr>\n",
       "    <tr>\n",
       "      <th>3</th>\n",
       "      <td>2023-04-06</td>\n",
       "      <td>38</td>\n",
       "      <td>22</td>\n",
       "      <td>0.00</td>\n",
       "      <td>0.0</td>\n",
       "      <td>0.0</td>\n",
       "      <td>2023</td>\n",
       "      <td>4</td>\n",
       "    </tr>\n",
       "    <tr>\n",
       "      <th>4</th>\n",
       "      <td>2023-04-05</td>\n",
       "      <td>37</td>\n",
       "      <td>25</td>\n",
       "      <td>0.01</td>\n",
       "      <td>0.0</td>\n",
       "      <td>0.0</td>\n",
       "      <td>2023</td>\n",
       "      <td>4</td>\n",
       "    </tr>\n",
       "  </tbody>\n",
       "</table>\n",
       "</div>"
      ],
      "text/plain": [
       "        Date  MaxTemp  MinTemp  Precipitation  SnowFall  SnowDepth  Year  \\\n",
       "0 2023-04-09       66       47           0.00       0.0        0.0  2023   \n",
       "1 2023-04-08       67       37           0.00       0.0        0.0  2023   \n",
       "2 2023-04-07       51       26           0.00       0.0        0.0  2023   \n",
       "3 2023-04-06       38       22           0.00       0.0        0.0  2023   \n",
       "4 2023-04-05       37       25           0.01       0.0        0.0  2023   \n",
       "\n",
       "   Month  \n",
       "0      4  \n",
       "1      4  \n",
       "2      4  \n",
       "3      4  \n",
       "4      4  "
      ]
     },
     "execution_count": 13,
     "metadata": {},
     "output_type": "execute_result"
    }
   ],
   "source": [
    "#Check Columns were applied\n",
    "df.head()"
   ]
  },
  {
   "cell_type": "code",
   "execution_count": 14,
   "id": "b59c5cee",
   "metadata": {},
   "outputs": [],
   "source": [
    "#Create new dataframe that aggregates data by season\n",
    "seasons = df.loc[(df['Month'] == 1) | \n",
    "                  (df['Month'] == 2) |\n",
    "                  (df['Month'] == 12),:]"
   ]
  },
  {
   "cell_type": "code",
   "execution_count": 15,
   "id": "5635027a",
   "metadata": {
    "scrolled": true
   },
   "outputs": [
    {
     "name": "stderr",
     "output_type": "stream",
     "text": [
      "/Users/hannahcamilleri/opt/anaconda3/envs/PythonData1/lib/python3.7/site-packages/ipykernel_launcher.py:2: SettingWithCopyWarning: \n",
      "A value is trying to be set on a copy of a slice from a DataFrame.\n",
      "Try using .loc[row_indexer,col_indexer] = value instead\n",
      "\n",
      "See the caveats in the documentation: https://pandas.pydata.org/pandas-docs/stable/user_guide/indexing.html#returning-a-view-versus-a-copy\n",
      "  \n"
     ]
    }
   ],
   "source": [
    "#Create Empty column for Season\n",
    "seasons['Season'] = ''"
   ]
  },
  {
   "cell_type": "code",
   "execution_count": 16,
   "id": "e08a99fc",
   "metadata": {},
   "outputs": [
    {
     "name": "stderr",
     "output_type": "stream",
     "text": [
      "/Users/hannahcamilleri/opt/anaconda3/envs/PythonData1/lib/python3.7/site-packages/ipykernel_launcher.py:4: SettingWithCopyWarning: \n",
      "A value is trying to be set on a copy of a slice from a DataFrame\n",
      "\n",
      "See the caveats in the documentation: https://pandas.pydata.org/pandas-docs/stable/user_guide/indexing.html#returning-a-view-versus-a-copy\n",
      "  after removing the cwd from sys.path.\n",
      "/Users/hannahcamilleri/opt/anaconda3/envs/PythonData1/lib/python3.7/site-packages/IPython/core/interactiveshell.py:3457: SettingWithCopyWarning: \n",
      "A value is trying to be set on a copy of a slice from a DataFrame\n",
      "\n",
      "See the caveats in the documentation: https://pandas.pydata.org/pandas-docs/stable/user_guide/indexing.html#returning-a-view-versus-a-copy\n",
      "  exec(code_obj, self.user_global_ns, self.user_ns)\n",
      "/Users/hannahcamilleri/opt/anaconda3/envs/PythonData1/lib/python3.7/site-packages/ipykernel_launcher.py:6: SettingWithCopyWarning: \n",
      "A value is trying to be set on a copy of a slice from a DataFrame\n",
      "\n",
      "See the caveats in the documentation: https://pandas.pydata.org/pandas-docs/stable/user_guide/indexing.html#returning-a-view-versus-a-copy\n",
      "  \n"
     ]
    }
   ],
   "source": [
    "#Create new seasons variable that defines each winter season,Dec-Feb as a year\n",
    "for ind in seasons.index:\n",
    "    if seasons[\"Month\"][ind] == 1 or seasons[\"Month\"][ind] == 2:\n",
    "        seasons['Season'][ind] = seasons['Year'][ind]\n",
    "    elif seasons[\"Month\"][ind] == 12:\n",
    "        seasons['Season'][ind] = seasons['Year'][ind] + 1"
   ]
  },
  {
   "cell_type": "code",
   "execution_count": 17,
   "id": "3a08cb25",
   "metadata": {},
   "outputs": [
    {
     "data": {
      "text/html": [
       "<div>\n",
       "<style scoped>\n",
       "    .dataframe tbody tr th:only-of-type {\n",
       "        vertical-align: middle;\n",
       "    }\n",
       "\n",
       "    .dataframe tbody tr th {\n",
       "        vertical-align: top;\n",
       "    }\n",
       "\n",
       "    .dataframe thead th {\n",
       "        text-align: right;\n",
       "    }\n",
       "</style>\n",
       "<table border=\"1\" class=\"dataframe\">\n",
       "  <thead>\n",
       "    <tr style=\"text-align: right;\">\n",
       "      <th></th>\n",
       "      <th>Date</th>\n",
       "      <th>MaxTemp</th>\n",
       "      <th>MinTemp</th>\n",
       "      <th>Precipitation</th>\n",
       "      <th>SnowFall</th>\n",
       "      <th>SnowDepth</th>\n",
       "      <th>Year</th>\n",
       "      <th>Month</th>\n",
       "      <th>Season</th>\n",
       "    </tr>\n",
       "  </thead>\n",
       "  <tbody>\n",
       "    <tr>\n",
       "      <th>40</th>\n",
       "      <td>2023-02-28</td>\n",
       "      <td>40</td>\n",
       "      <td>20</td>\n",
       "      <td>0.00</td>\n",
       "      <td>0.0</td>\n",
       "      <td>10.0</td>\n",
       "      <td>2023</td>\n",
       "      <td>2</td>\n",
       "      <td>2023</td>\n",
       "    </tr>\n",
       "    <tr>\n",
       "      <th>41</th>\n",
       "      <td>2023-02-27</td>\n",
       "      <td>34</td>\n",
       "      <td>28</td>\n",
       "      <td>0.48</td>\n",
       "      <td>0.0</td>\n",
       "      <td>11.0</td>\n",
       "      <td>2023</td>\n",
       "      <td>2</td>\n",
       "      <td>2023</td>\n",
       "    </tr>\n",
       "    <tr>\n",
       "      <th>42</th>\n",
       "      <td>2023-02-26</td>\n",
       "      <td>33</td>\n",
       "      <td>5</td>\n",
       "      <td>0.00</td>\n",
       "      <td>0.0</td>\n",
       "      <td>12.0</td>\n",
       "      <td>2023</td>\n",
       "      <td>2</td>\n",
       "      <td>2023</td>\n",
       "    </tr>\n",
       "    <tr>\n",
       "      <th>43</th>\n",
       "      <td>2023-02-25</td>\n",
       "      <td>26</td>\n",
       "      <td>3</td>\n",
       "      <td>0.00</td>\n",
       "      <td>0.0</td>\n",
       "      <td>12.0</td>\n",
       "      <td>2023</td>\n",
       "      <td>2</td>\n",
       "      <td>2023</td>\n",
       "    </tr>\n",
       "    <tr>\n",
       "      <th>44</th>\n",
       "      <td>2023-02-24</td>\n",
       "      <td>11</td>\n",
       "      <td>-8</td>\n",
       "      <td>0.00</td>\n",
       "      <td>0.3</td>\n",
       "      <td>13.0</td>\n",
       "      <td>2023</td>\n",
       "      <td>2</td>\n",
       "      <td>2023</td>\n",
       "    </tr>\n",
       "    <tr>\n",
       "      <th>...</th>\n",
       "      <td>...</td>\n",
       "      <td>...</td>\n",
       "      <td>...</td>\n",
       "      <td>...</td>\n",
       "      <td>...</td>\n",
       "      <td>...</td>\n",
       "      <td>...</td>\n",
       "      <td>...</td>\n",
       "      <td>...</td>\n",
       "    </tr>\n",
       "    <tr>\n",
       "      <th>105</th>\n",
       "      <td>2022-12-25</td>\n",
       "      <td>8</td>\n",
       "      <td>-4</td>\n",
       "      <td>0.00</td>\n",
       "      <td>0.0</td>\n",
       "      <td>10.0</td>\n",
       "      <td>2022</td>\n",
       "      <td>12</td>\n",
       "      <td>2023</td>\n",
       "    </tr>\n",
       "    <tr>\n",
       "      <th>106</th>\n",
       "      <td>2022-12-24</td>\n",
       "      <td>7</td>\n",
       "      <td>-5</td>\n",
       "      <td>0.00</td>\n",
       "      <td>0.0</td>\n",
       "      <td>10.0</td>\n",
       "      <td>2022</td>\n",
       "      <td>12</td>\n",
       "      <td>2023</td>\n",
       "    </tr>\n",
       "    <tr>\n",
       "      <th>107</th>\n",
       "      <td>2022-12-23</td>\n",
       "      <td>-2</td>\n",
       "      <td>-12</td>\n",
       "      <td>0.00</td>\n",
       "      <td>0.0</td>\n",
       "      <td>11.0</td>\n",
       "      <td>2022</td>\n",
       "      <td>12</td>\n",
       "      <td>2023</td>\n",
       "    </tr>\n",
       "    <tr>\n",
       "      <th>108</th>\n",
       "      <td>2022-12-22</td>\n",
       "      <td>-4</td>\n",
       "      <td>-11</td>\n",
       "      <td>0.04</td>\n",
       "      <td>0.7</td>\n",
       "      <td>12.0</td>\n",
       "      <td>2022</td>\n",
       "      <td>12</td>\n",
       "      <td>2023</td>\n",
       "    </tr>\n",
       "    <tr>\n",
       "      <th>109</th>\n",
       "      <td>2022-12-21</td>\n",
       "      <td>1</td>\n",
       "      <td>-8</td>\n",
       "      <td>0.42</td>\n",
       "      <td>7.4</td>\n",
       "      <td>6.0</td>\n",
       "      <td>2022</td>\n",
       "      <td>12</td>\n",
       "      <td>2023</td>\n",
       "    </tr>\n",
       "  </tbody>\n",
       "</table>\n",
       "<p>70 rows × 9 columns</p>\n",
       "</div>"
      ],
      "text/plain": [
       "          Date  MaxTemp  MinTemp  Precipitation  SnowFall  SnowDepth  Year  \\\n",
       "40  2023-02-28       40       20           0.00       0.0       10.0  2023   \n",
       "41  2023-02-27       34       28           0.48       0.0       11.0  2023   \n",
       "42  2023-02-26       33        5           0.00       0.0       12.0  2023   \n",
       "43  2023-02-25       26        3           0.00       0.0       12.0  2023   \n",
       "44  2023-02-24       11       -8           0.00       0.3       13.0  2023   \n",
       "..         ...      ...      ...            ...       ...        ...   ...   \n",
       "105 2022-12-25        8       -4           0.00       0.0       10.0  2022   \n",
       "106 2022-12-24        7       -5           0.00       0.0       10.0  2022   \n",
       "107 2022-12-23       -2      -12           0.00       0.0       11.0  2022   \n",
       "108 2022-12-22       -4      -11           0.04       0.7       12.0  2022   \n",
       "109 2022-12-21        1       -8           0.42       7.4        6.0  2022   \n",
       "\n",
       "     Month Season  \n",
       "40       2   2023  \n",
       "41       2   2023  \n",
       "42       2   2023  \n",
       "43       2   2023  \n",
       "44       2   2023  \n",
       "..     ...    ...  \n",
       "105     12   2023  \n",
       "106     12   2023  \n",
       "107     12   2023  \n",
       "108     12   2023  \n",
       "109     12   2023  \n",
       "\n",
       "[70 rows x 9 columns]"
      ]
     },
     "execution_count": 17,
     "metadata": {},
     "output_type": "execute_result"
    }
   ],
   "source": [
    "#Check that variables were correctly added\n",
    "seasons.head(70)"
   ]
  },
  {
   "cell_type": "code",
   "execution_count": 18,
   "id": "2f88055f",
   "metadata": {},
   "outputs": [
    {
     "name": "stderr",
     "output_type": "stream",
     "text": [
      "/Users/hannahcamilleri/opt/anaconda3/envs/PythonData1/lib/python3.7/site-packages/ipykernel_launcher.py:1: SettingWithCopyWarning: \n",
      "A value is trying to be set on a copy of a slice from a DataFrame.\n",
      "Try using .loc[row_indexer,col_indexer] = value instead\n",
      "\n",
      "See the caveats in the documentation: https://pandas.pydata.org/pandas-docs/stable/user_guide/indexing.html#returning-a-view-versus-a-copy\n",
      "  \"\"\"Entry point for launching an IPython kernel.\n"
     ]
    }
   ],
   "source": [
    "seasons['SnowBase_6in']=''"
   ]
  },
  {
   "cell_type": "code",
   "execution_count": 19,
   "id": "d7e56913",
   "metadata": {},
   "outputs": [
    {
     "name": "stderr",
     "output_type": "stream",
     "text": [
      "/Users/hannahcamilleri/opt/anaconda3/envs/PythonData1/lib/python3.7/site-packages/ipykernel_launcher.py:3: SettingWithCopyWarning: \n",
      "A value is trying to be set on a copy of a slice from a DataFrame\n",
      "\n",
      "See the caveats in the documentation: https://pandas.pydata.org/pandas-docs/stable/user_guide/indexing.html#returning-a-view-versus-a-copy\n",
      "  This is separate from the ipykernel package so we can avoid doing imports until\n",
      "/Users/hannahcamilleri/opt/anaconda3/envs/PythonData1/lib/python3.7/site-packages/IPython/core/interactiveshell.py:3457: SettingWithCopyWarning: \n",
      "A value is trying to be set on a copy of a slice from a DataFrame\n",
      "\n",
      "See the caveats in the documentation: https://pandas.pydata.org/pandas-docs/stable/user_guide/indexing.html#returning-a-view-versus-a-copy\n",
      "  exec(code_obj, self.user_global_ns, self.user_ns)\n",
      "/Users/hannahcamilleri/opt/anaconda3/envs/PythonData1/lib/python3.7/site-packages/ipykernel_launcher.py:5: SettingWithCopyWarning: \n",
      "A value is trying to be set on a copy of a slice from a DataFrame\n",
      "\n",
      "See the caveats in the documentation: https://pandas.pydata.org/pandas-docs/stable/user_guide/indexing.html#returning-a-view-versus-a-copy\n",
      "  \"\"\"\n"
     ]
    }
   ],
   "source": [
    "#Create variable for days with more than 6 inches of snow cover\n",
    "for ind in seasons.index:\n",
    "    if seasons[\"SnowDepth\"][ind] >= 6:\n",
    "        seasons['SnowBase_6in'][ind] = 1\n",
    "    else:\n",
    "        seasons['SnowBase_6in'][ind] = 0"
   ]
  },
  {
   "cell_type": "code",
   "execution_count": 20,
   "id": "d9d8b276",
   "metadata": {},
   "outputs": [
    {
     "name": "stderr",
     "output_type": "stream",
     "text": [
      "/Users/hannahcamilleri/opt/anaconda3/envs/PythonData1/lib/python3.7/site-packages/ipykernel_launcher.py:2: SettingWithCopyWarning: \n",
      "A value is trying to be set on a copy of a slice from a DataFrame.\n",
      "Try using .loc[row_indexer,col_indexer] = value instead\n",
      "\n",
      "See the caveats in the documentation: https://pandas.pydata.org/pandas-docs/stable/user_guide/indexing.html#returning-a-view-versus-a-copy\n",
      "  \n"
     ]
    }
   ],
   "source": [
    "#Change snowbase to integer\n",
    "seasons['SnowBase_6in'] = seasons['SnowBase_6in'].astype('int64')"
   ]
  },
  {
   "cell_type": "code",
   "execution_count": 21,
   "id": "59e69219",
   "metadata": {},
   "outputs": [
    {
     "data": {
      "text/html": [
       "<div>\n",
       "<style scoped>\n",
       "    .dataframe tbody tr th:only-of-type {\n",
       "        vertical-align: middle;\n",
       "    }\n",
       "\n",
       "    .dataframe tbody tr th {\n",
       "        vertical-align: top;\n",
       "    }\n",
       "\n",
       "    .dataframe thead th {\n",
       "        text-align: right;\n",
       "    }\n",
       "</style>\n",
       "<table border=\"1\" class=\"dataframe\">\n",
       "  <thead>\n",
       "    <tr style=\"text-align: right;\">\n",
       "      <th></th>\n",
       "      <th>MaxTemp</th>\n",
       "    </tr>\n",
       "    <tr>\n",
       "      <th>Season</th>\n",
       "      <th></th>\n",
       "    </tr>\n",
       "  </thead>\n",
       "  <tbody>\n",
       "    <tr>\n",
       "      <th>1899</th>\n",
       "      <td>19.271186</td>\n",
       "    </tr>\n",
       "    <tr>\n",
       "      <th>1900</th>\n",
       "      <td>25.833333</td>\n",
       "    </tr>\n",
       "    <tr>\n",
       "      <th>1901</th>\n",
       "      <td>24.311111</td>\n",
       "    </tr>\n",
       "    <tr>\n",
       "      <th>1902</th>\n",
       "      <td>25.566667</td>\n",
       "    </tr>\n",
       "    <tr>\n",
       "      <th>1903</th>\n",
       "      <td>23.522222</td>\n",
       "    </tr>\n",
       "    <tr>\n",
       "      <th>...</th>\n",
       "      <td>...</td>\n",
       "    </tr>\n",
       "    <tr>\n",
       "      <th>2019</th>\n",
       "      <td>24.988889</td>\n",
       "    </tr>\n",
       "    <tr>\n",
       "      <th>2020</th>\n",
       "      <td>29.142857</td>\n",
       "    </tr>\n",
       "    <tr>\n",
       "      <th>2021</th>\n",
       "      <td>26.866667</td>\n",
       "    </tr>\n",
       "    <tr>\n",
       "      <th>2022</th>\n",
       "      <td>25.844444</td>\n",
       "    </tr>\n",
       "    <tr>\n",
       "      <th>2023</th>\n",
       "      <td>26.666667</td>\n",
       "    </tr>\n",
       "  </tbody>\n",
       "</table>\n",
       "<p>125 rows × 1 columns</p>\n",
       "</div>"
      ],
      "text/plain": [
       "          MaxTemp\n",
       "Season           \n",
       "1899    19.271186\n",
       "1900    25.833333\n",
       "1901    24.311111\n",
       "1902    25.566667\n",
       "1903    23.522222\n",
       "...           ...\n",
       "2019    24.988889\n",
       "2020    29.142857\n",
       "2021    26.866667\n",
       "2022    25.844444\n",
       "2023    26.666667\n",
       "\n",
       "[125 rows x 1 columns]"
      ]
     },
     "execution_count": 21,
     "metadata": {},
     "output_type": "execute_result"
    }
   ],
   "source": [
    "#Summarize data by season and store into DataFrames\n",
    "Max = seasons.groupby('Season').mean()['MaxTemp']\n",
    "Min = seasons.groupby('Season').mean()['MinTemp']\n",
    "Precip = seasons.groupby('Season').sum()['Precipitation']\n",
    "Snow = seasons.groupby('Season').sum()['SnowFall']\n",
    "Base = seasons.groupby('Season').sum()['SnowBase_6in']\n",
    "\n",
    "MaxDf = pd.DataFrame(Max)\n",
    "MinDf= pd.DataFrame(Min)\n",
    "PrecipDf = pd.DataFrame(Precip)\n",
    "SnowDf = pd.DataFrame(Snow)\n",
    "BaseDf = pd.DataFrame(Base)\n",
    "MaxDf"
   ]
  },
  {
   "cell_type": "code",
   "execution_count": 22,
   "id": "d86a02ea",
   "metadata": {},
   "outputs": [
    {
     "data": {
      "text/html": [
       "<div>\n",
       "<style scoped>\n",
       "    .dataframe tbody tr th:only-of-type {\n",
       "        vertical-align: middle;\n",
       "    }\n",
       "\n",
       "    .dataframe tbody tr th {\n",
       "        vertical-align: top;\n",
       "    }\n",
       "\n",
       "    .dataframe thead th {\n",
       "        text-align: right;\n",
       "    }\n",
       "</style>\n",
       "<table border=\"1\" class=\"dataframe\">\n",
       "  <thead>\n",
       "    <tr style=\"text-align: right;\">\n",
       "      <th></th>\n",
       "      <th>MaxTemp</th>\n",
       "      <th>MinTemp</th>\n",
       "      <th>Precipitation</th>\n",
       "      <th>SnowFall</th>\n",
       "      <th>SnowBase_6in</th>\n",
       "    </tr>\n",
       "    <tr>\n",
       "      <th>Season</th>\n",
       "      <th></th>\n",
       "      <th></th>\n",
       "      <th></th>\n",
       "      <th></th>\n",
       "      <th></th>\n",
       "    </tr>\n",
       "  </thead>\n",
       "  <tbody>\n",
       "    <tr>\n",
       "      <th>1899</th>\n",
       "      <td>19.271186</td>\n",
       "      <td>2.559322</td>\n",
       "      <td>1.64</td>\n",
       "      <td>23.2</td>\n",
       "      <td>20</td>\n",
       "    </tr>\n",
       "    <tr>\n",
       "      <th>1900</th>\n",
       "      <td>25.833333</td>\n",
       "      <td>8.933333</td>\n",
       "      <td>2.30</td>\n",
       "      <td>17.1</td>\n",
       "      <td>4</td>\n",
       "    </tr>\n",
       "    <tr>\n",
       "      <th>1901</th>\n",
       "      <td>24.311111</td>\n",
       "      <td>8.277778</td>\n",
       "      <td>0.94</td>\n",
       "      <td>14.6</td>\n",
       "      <td>0</td>\n",
       "    </tr>\n",
       "    <tr>\n",
       "      <th>1902</th>\n",
       "      <td>25.566667</td>\n",
       "      <td>9.577778</td>\n",
       "      <td>1.37</td>\n",
       "      <td>16.9</td>\n",
       "      <td>0</td>\n",
       "    </tr>\n",
       "    <tr>\n",
       "      <th>1903</th>\n",
       "      <td>23.522222</td>\n",
       "      <td>6.400000</td>\n",
       "      <td>3.33</td>\n",
       "      <td>30.8</td>\n",
       "      <td>22</td>\n",
       "    </tr>\n",
       "    <tr>\n",
       "      <th>...</th>\n",
       "      <td>...</td>\n",
       "      <td>...</td>\n",
       "      <td>...</td>\n",
       "      <td>...</td>\n",
       "      <td>...</td>\n",
       "    </tr>\n",
       "    <tr>\n",
       "      <th>2019</th>\n",
       "      <td>24.988889</td>\n",
       "      <td>10.633333</td>\n",
       "      <td>4.55</td>\n",
       "      <td>52.5</td>\n",
       "      <td>21</td>\n",
       "    </tr>\n",
       "    <tr>\n",
       "      <th>2020</th>\n",
       "      <td>29.142857</td>\n",
       "      <td>14.098901</td>\n",
       "      <td>3.38</td>\n",
       "      <td>28.6</td>\n",
       "      <td>52</td>\n",
       "    </tr>\n",
       "    <tr>\n",
       "      <th>2021</th>\n",
       "      <td>26.866667</td>\n",
       "      <td>13.000000</td>\n",
       "      <td>2.15</td>\n",
       "      <td>26.1</td>\n",
       "      <td>65</td>\n",
       "    </tr>\n",
       "    <tr>\n",
       "      <th>2022</th>\n",
       "      <td>25.844444</td>\n",
       "      <td>7.388889</td>\n",
       "      <td>3.37</td>\n",
       "      <td>42.3</td>\n",
       "      <td>34</td>\n",
       "    </tr>\n",
       "    <tr>\n",
       "      <th>2023</th>\n",
       "      <td>26.666667</td>\n",
       "      <td>12.733333</td>\n",
       "      <td>6.45</td>\n",
       "      <td>57.6</td>\n",
       "      <td>65</td>\n",
       "    </tr>\n",
       "  </tbody>\n",
       "</table>\n",
       "<p>125 rows × 5 columns</p>\n",
       "</div>"
      ],
      "text/plain": [
       "          MaxTemp    MinTemp  Precipitation  SnowFall  SnowBase_6in\n",
       "Season                                                             \n",
       "1899    19.271186   2.559322           1.64      23.2            20\n",
       "1900    25.833333   8.933333           2.30      17.1             4\n",
       "1901    24.311111   8.277778           0.94      14.6             0\n",
       "1902    25.566667   9.577778           1.37      16.9             0\n",
       "1903    23.522222   6.400000           3.33      30.8            22\n",
       "...           ...        ...            ...       ...           ...\n",
       "2019    24.988889  10.633333           4.55      52.5            21\n",
       "2020    29.142857  14.098901           3.38      28.6            52\n",
       "2021    26.866667  13.000000           2.15      26.1            65\n",
       "2022    25.844444   7.388889           3.37      42.3            34\n",
       "2023    26.666667  12.733333           6.45      57.6            65\n",
       "\n",
       "[125 rows x 5 columns]"
      ]
     },
     "execution_count": 22,
     "metadata": {},
     "output_type": "execute_result"
    }
   ],
   "source": [
    "#Merge DataFrames together to create one summary df\n",
    "Summary = pd.merge(MaxDf,MinDf,on='Season')\n",
    "Summary = pd.merge(Summary,PrecipDf,on='Season')\n",
    "Summary = pd.merge(Summary,SnowDf,on='Season')\n",
    "Summary = pd.merge(Summary,BaseDf,on='Season')\n",
    "Summary"
   ]
  },
  {
   "cell_type": "code",
   "execution_count": 23,
   "id": "f7d9c90a",
   "metadata": {},
   "outputs": [],
   "source": [
    "Summary = Summary.rename(columns={'MaxTemp':'AvgMaxTemp',\n",
    "                                  'MinTemp':'AvgMinTemp',\n",
    "                                  'Precipitation':'TotalPrecip',\n",
    "                                  'SnowFall':'TotalSnowfall',\n",
    "                                  'SnowBase_6in':'Total_Days_6in_Base'})\n"
   ]
  },
  {
   "cell_type": "code",
   "execution_count": 24,
   "id": "49fe6fb1",
   "metadata": {},
   "outputs": [
    {
     "data": {
      "text/html": [
       "<div>\n",
       "<style scoped>\n",
       "    .dataframe tbody tr th:only-of-type {\n",
       "        vertical-align: middle;\n",
       "    }\n",
       "\n",
       "    .dataframe tbody tr th {\n",
       "        vertical-align: top;\n",
       "    }\n",
       "\n",
       "    .dataframe thead th {\n",
       "        text-align: right;\n",
       "    }\n",
       "</style>\n",
       "<table border=\"1\" class=\"dataframe\">\n",
       "  <thead>\n",
       "    <tr style=\"text-align: right;\">\n",
       "      <th></th>\n",
       "      <th>AvgMaxTemp</th>\n",
       "      <th>AvgMinTemp</th>\n",
       "      <th>TotalPrecip</th>\n",
       "      <th>TotalSnowfall</th>\n",
       "      <th>Total_Days_6in_Base</th>\n",
       "    </tr>\n",
       "    <tr>\n",
       "      <th>Season</th>\n",
       "      <th></th>\n",
       "      <th></th>\n",
       "      <th></th>\n",
       "      <th></th>\n",
       "      <th></th>\n",
       "    </tr>\n",
       "  </thead>\n",
       "  <tbody>\n",
       "    <tr>\n",
       "      <th>1900</th>\n",
       "      <td>25.833333</td>\n",
       "      <td>8.933333</td>\n",
       "      <td>2.30</td>\n",
       "      <td>17.1</td>\n",
       "      <td>4</td>\n",
       "    </tr>\n",
       "    <tr>\n",
       "      <th>1901</th>\n",
       "      <td>24.311111</td>\n",
       "      <td>8.277778</td>\n",
       "      <td>0.94</td>\n",
       "      <td>14.6</td>\n",
       "      <td>0</td>\n",
       "    </tr>\n",
       "    <tr>\n",
       "      <th>1902</th>\n",
       "      <td>25.566667</td>\n",
       "      <td>9.577778</td>\n",
       "      <td>1.37</td>\n",
       "      <td>16.9</td>\n",
       "      <td>0</td>\n",
       "    </tr>\n",
       "    <tr>\n",
       "      <th>1903</th>\n",
       "      <td>23.522222</td>\n",
       "      <td>6.400000</td>\n",
       "      <td>3.33</td>\n",
       "      <td>30.8</td>\n",
       "      <td>22</td>\n",
       "    </tr>\n",
       "    <tr>\n",
       "      <th>1904</th>\n",
       "      <td>16.329670</td>\n",
       "      <td>0.505495</td>\n",
       "      <td>1.82</td>\n",
       "      <td>30.0</td>\n",
       "      <td>26</td>\n",
       "    </tr>\n",
       "    <tr>\n",
       "      <th>...</th>\n",
       "      <td>...</td>\n",
       "      <td>...</td>\n",
       "      <td>...</td>\n",
       "      <td>...</td>\n",
       "      <td>...</td>\n",
       "    </tr>\n",
       "    <tr>\n",
       "      <th>2019</th>\n",
       "      <td>24.988889</td>\n",
       "      <td>10.633333</td>\n",
       "      <td>4.55</td>\n",
       "      <td>52.5</td>\n",
       "      <td>21</td>\n",
       "    </tr>\n",
       "    <tr>\n",
       "      <th>2020</th>\n",
       "      <td>29.142857</td>\n",
       "      <td>14.098901</td>\n",
       "      <td>3.38</td>\n",
       "      <td>28.6</td>\n",
       "      <td>52</td>\n",
       "    </tr>\n",
       "    <tr>\n",
       "      <th>2021</th>\n",
       "      <td>26.866667</td>\n",
       "      <td>13.000000</td>\n",
       "      <td>2.15</td>\n",
       "      <td>26.1</td>\n",
       "      <td>65</td>\n",
       "    </tr>\n",
       "    <tr>\n",
       "      <th>2022</th>\n",
       "      <td>25.844444</td>\n",
       "      <td>7.388889</td>\n",
       "      <td>3.37</td>\n",
       "      <td>42.3</td>\n",
       "      <td>34</td>\n",
       "    </tr>\n",
       "    <tr>\n",
       "      <th>2023</th>\n",
       "      <td>26.666667</td>\n",
       "      <td>12.733333</td>\n",
       "      <td>6.45</td>\n",
       "      <td>57.6</td>\n",
       "      <td>65</td>\n",
       "    </tr>\n",
       "  </tbody>\n",
       "</table>\n",
       "<p>124 rows × 5 columns</p>\n",
       "</div>"
      ],
      "text/plain": [
       "        AvgMaxTemp  AvgMinTemp  TotalPrecip  TotalSnowfall  \\\n",
       "Season                                                       \n",
       "1900     25.833333    8.933333         2.30           17.1   \n",
       "1901     24.311111    8.277778         0.94           14.6   \n",
       "1902     25.566667    9.577778         1.37           16.9   \n",
       "1903     23.522222    6.400000         3.33           30.8   \n",
       "1904     16.329670    0.505495         1.82           30.0   \n",
       "...            ...         ...          ...            ...   \n",
       "2019     24.988889   10.633333         4.55           52.5   \n",
       "2020     29.142857   14.098901         3.38           28.6   \n",
       "2021     26.866667   13.000000         2.15           26.1   \n",
       "2022     25.844444    7.388889         3.37           42.3   \n",
       "2023     26.666667   12.733333         6.45           57.6   \n",
       "\n",
       "        Total_Days_6in_Base  \n",
       "Season                       \n",
       "1900                      4  \n",
       "1901                      0  \n",
       "1902                      0  \n",
       "1903                     22  \n",
       "1904                     26  \n",
       "...                     ...  \n",
       "2019                     21  \n",
       "2020                     52  \n",
       "2021                     65  \n",
       "2022                     34  \n",
       "2023                     65  \n",
       "\n",
       "[124 rows x 5 columns]"
      ]
     },
     "execution_count": 24,
     "metadata": {},
     "output_type": "execute_result"
    }
   ],
   "source": [
    "#Remove 1899\n",
    "Summary = Summary.loc[(Summary.index != 1899),:]\n",
    "Summary"
   ]
  },
  {
   "cell_type": "code",
   "execution_count": 25,
   "id": "e9795620",
   "metadata": {},
   "outputs": [
    {
     "data": {
      "text/html": [
       "<div>\n",
       "<style scoped>\n",
       "    .dataframe tbody tr th:only-of-type {\n",
       "        vertical-align: middle;\n",
       "    }\n",
       "\n",
       "    .dataframe tbody tr th {\n",
       "        vertical-align: top;\n",
       "    }\n",
       "\n",
       "    .dataframe thead th {\n",
       "        text-align: right;\n",
       "    }\n",
       "</style>\n",
       "<table border=\"1\" class=\"dataframe\">\n",
       "  <thead>\n",
       "    <tr style=\"text-align: right;\">\n",
       "      <th></th>\n",
       "      <th>AvgMaxTemp</th>\n",
       "      <th>AvgMinTemp</th>\n",
       "      <th>TotalPrecip</th>\n",
       "      <th>TotalSnowfall</th>\n",
       "      <th>Total_Days_6in_Base</th>\n",
       "      <th>MaxRolling5Year</th>\n",
       "      <th>MinRolling5Year</th>\n",
       "    </tr>\n",
       "    <tr>\n",
       "      <th>Season</th>\n",
       "      <th></th>\n",
       "      <th></th>\n",
       "      <th></th>\n",
       "      <th></th>\n",
       "      <th></th>\n",
       "      <th></th>\n",
       "      <th></th>\n",
       "    </tr>\n",
       "  </thead>\n",
       "  <tbody>\n",
       "    <tr>\n",
       "      <th>1900</th>\n",
       "      <td>25.833333</td>\n",
       "      <td>8.933333</td>\n",
       "      <td>2.30</td>\n",
       "      <td>17.1</td>\n",
       "      <td>4</td>\n",
       "      <td>NaN</td>\n",
       "      <td>NaN</td>\n",
       "    </tr>\n",
       "    <tr>\n",
       "      <th>1901</th>\n",
       "      <td>24.311111</td>\n",
       "      <td>8.277778</td>\n",
       "      <td>0.94</td>\n",
       "      <td>14.6</td>\n",
       "      <td>0</td>\n",
       "      <td>NaN</td>\n",
       "      <td>NaN</td>\n",
       "    </tr>\n",
       "    <tr>\n",
       "      <th>1902</th>\n",
       "      <td>25.566667</td>\n",
       "      <td>9.577778</td>\n",
       "      <td>1.37</td>\n",
       "      <td>16.9</td>\n",
       "      <td>0</td>\n",
       "      <td>NaN</td>\n",
       "      <td>NaN</td>\n",
       "    </tr>\n",
       "    <tr>\n",
       "      <th>1903</th>\n",
       "      <td>23.522222</td>\n",
       "      <td>6.400000</td>\n",
       "      <td>3.33</td>\n",
       "      <td>30.8</td>\n",
       "      <td>22</td>\n",
       "      <td>NaN</td>\n",
       "      <td>NaN</td>\n",
       "    </tr>\n",
       "    <tr>\n",
       "      <th>1904</th>\n",
       "      <td>16.329670</td>\n",
       "      <td>0.505495</td>\n",
       "      <td>1.82</td>\n",
       "      <td>30.0</td>\n",
       "      <td>26</td>\n",
       "      <td>23.112601</td>\n",
       "      <td>6.738877</td>\n",
       "    </tr>\n",
       "    <tr>\n",
       "      <th>...</th>\n",
       "      <td>...</td>\n",
       "      <td>...</td>\n",
       "      <td>...</td>\n",
       "      <td>...</td>\n",
       "      <td>...</td>\n",
       "      <td>...</td>\n",
       "      <td>...</td>\n",
       "    </tr>\n",
       "    <tr>\n",
       "      <th>2019</th>\n",
       "      <td>24.988889</td>\n",
       "      <td>10.633333</td>\n",
       "      <td>4.55</td>\n",
       "      <td>52.5</td>\n",
       "      <td>21</td>\n",
       "      <td>27.319316</td>\n",
       "      <td>13.357534</td>\n",
       "    </tr>\n",
       "    <tr>\n",
       "      <th>2020</th>\n",
       "      <td>29.142857</td>\n",
       "      <td>14.098901</td>\n",
       "      <td>3.38</td>\n",
       "      <td>28.6</td>\n",
       "      <td>52</td>\n",
       "      <td>28.121221</td>\n",
       "      <td>13.852869</td>\n",
       "    </tr>\n",
       "    <tr>\n",
       "      <th>2021</th>\n",
       "      <td>26.866667</td>\n",
       "      <td>13.000000</td>\n",
       "      <td>2.15</td>\n",
       "      <td>26.1</td>\n",
       "      <td>65</td>\n",
       "      <td>27.433016</td>\n",
       "      <td>12.830891</td>\n",
       "    </tr>\n",
       "    <tr>\n",
       "      <th>2022</th>\n",
       "      <td>25.844444</td>\n",
       "      <td>7.388889</td>\n",
       "      <td>3.37</td>\n",
       "      <td>42.3</td>\n",
       "      <td>34</td>\n",
       "      <td>26.377460</td>\n",
       "      <td>10.884225</td>\n",
       "    </tr>\n",
       "    <tr>\n",
       "      <th>2023</th>\n",
       "      <td>26.666667</td>\n",
       "      <td>12.733333</td>\n",
       "      <td>6.45</td>\n",
       "      <td>57.6</td>\n",
       "      <td>65</td>\n",
       "      <td>26.701905</td>\n",
       "      <td>11.570891</td>\n",
       "    </tr>\n",
       "  </tbody>\n",
       "</table>\n",
       "<p>124 rows × 7 columns</p>\n",
       "</div>"
      ],
      "text/plain": [
       "        AvgMaxTemp  AvgMinTemp  TotalPrecip  TotalSnowfall  \\\n",
       "Season                                                       \n",
       "1900     25.833333    8.933333         2.30           17.1   \n",
       "1901     24.311111    8.277778         0.94           14.6   \n",
       "1902     25.566667    9.577778         1.37           16.9   \n",
       "1903     23.522222    6.400000         3.33           30.8   \n",
       "1904     16.329670    0.505495         1.82           30.0   \n",
       "...            ...         ...          ...            ...   \n",
       "2019     24.988889   10.633333         4.55           52.5   \n",
       "2020     29.142857   14.098901         3.38           28.6   \n",
       "2021     26.866667   13.000000         2.15           26.1   \n",
       "2022     25.844444    7.388889         3.37           42.3   \n",
       "2023     26.666667   12.733333         6.45           57.6   \n",
       "\n",
       "        Total_Days_6in_Base  MaxRolling5Year  MinRolling5Year  \n",
       "Season                                                         \n",
       "1900                      4              NaN              NaN  \n",
       "1901                      0              NaN              NaN  \n",
       "1902                      0              NaN              NaN  \n",
       "1903                     22              NaN              NaN  \n",
       "1904                     26        23.112601         6.738877  \n",
       "...                     ...              ...              ...  \n",
       "2019                     21        27.319316        13.357534  \n",
       "2020                     52        28.121221        13.852869  \n",
       "2021                     65        27.433016        12.830891  \n",
       "2022                     34        26.377460        10.884225  \n",
       "2023                     65        26.701905        11.570891  \n",
       "\n",
       "[124 rows x 7 columns]"
      ]
     },
     "execution_count": 25,
     "metadata": {},
     "output_type": "execute_result"
    }
   ],
   "source": [
    "#Create 5 year rolling avg\n",
    "Summary['MaxRolling5Year'] = Summary['AvgMaxTemp'].rolling(5).mean()\n",
    "Summary['MinRolling5Year'] = Summary['AvgMinTemp'].rolling(5).mean()\n",
    "Summary"
   ]
  },
  {
   "cell_type": "code",
   "execution_count": 248,
   "id": "04b84c10",
   "metadata": {},
   "outputs": [],
   "source": [
    "Summary.to_csv('WeatherDB.csv')\n",
    "df.to_csv('DailyWeather.csv')"
   ]
  },
  {
   "cell_type": "code",
   "execution_count": 147,
   "id": "ed735479",
   "metadata": {},
   "outputs": [
    {
     "data": {
      "image/png": "[encoded data removed]",
      "text/plain": [
       "<Figure size 432x288 with 1 Axes>"
      ]
     },
     "metadata": {
      "needs_background": "light"
     },
     "output_type": "display_data"
    }
   ],
   "source": [
    "#Plot Max temp\n",
    "plt.plot(Summary.index,Summary['MaxRolling5Year'])\n",
    "plt.xlabel('Year')\n",
    "plt.ylabel('Temperature (F)')\n",
    "plt.title('Average Max Temp by Winter Season (Dec-Mar,5 year rolling)')\n",
    "plt.savefig(\"MaxTemp.png\")"
   ]
  },
  {
   "cell_type": "code",
   "execution_count": 26,
   "id": "55975726",
   "metadata": {},
   "outputs": [],
   "source": [
    "#Create engine and make connection\n",
    "engine = create_engine('sqlite:///Weather2.db', echo=True)\n",
    "sqlite_connection = engine.connect()"
   ]
  },
  {
   "cell_type": "code",
   "execution_count": 299,
   "id": "513c42e0",
   "metadata": {},
   "outputs": [
    {
     "name": "stdout",
     "output_type": "stream",
     "text": [
      "2023-04-13 22:05:59,957 INFO sqlalchemy.engine.Engine CREATE TABLE Weather (Season INTEGER PRIMARY KEY,\n",
      "              AvgMaxTemp NUMERIC,\n",
      "              AvgMinTemp NUMERIC,\n",
      "              TotalPrecip NUMERIC,\n",
      "              TotalSnowfall NUMERIC,\n",
      "              Total_Days_6in_Base INTEGER,\n",
      "              MaxRolling5Year NUMERIC,\n",
      "              MinRolling5Year NUMERIC)\n"
     ]
    },
    {
     "name": "stderr",
     "output_type": "stream",
     "text": [
      "INFO:sqlalchemy.engine.Engine:CREATE TABLE Weather (Season INTEGER PRIMARY KEY,\n",
      "              AvgMaxTemp NUMERIC,\n",
      "              AvgMinTemp NUMERIC,\n",
      "              TotalPrecip NUMERIC,\n",
      "              TotalSnowfall NUMERIC,\n",
      "              Total_Days_6in_Base INTEGER,\n",
      "              MaxRolling5Year NUMERIC,\n",
      "              MinRolling5Year NUMERIC)\n"
     ]
    },
    {
     "name": "stdout",
     "output_type": "stream",
     "text": [
      "2023-04-13 22:05:59,971 INFO sqlalchemy.engine.Engine [raw sql] ()\n"
     ]
    },
    {
     "name": "stderr",
     "output_type": "stream",
     "text": [
      "INFO:sqlalchemy.engine.Engine:[raw sql] ()\n"
     ]
    },
    {
     "name": "stdout",
     "output_type": "stream",
     "text": [
      "2023-04-13 22:05:59,984 INFO sqlalchemy.engine.Engine COMMIT\n"
     ]
    },
    {
     "name": "stderr",
     "output_type": "stream",
     "text": [
      "INFO:sqlalchemy.engine.Engine:COMMIT\n"
     ]
    },
    {
     "data": {
      "text/plain": [
       "<sqlalchemy.engine.cursor.LegacyCursorResult at 0x7fa09da5ae90>"
      ]
     },
     "execution_count": 299,
     "metadata": {},
     "output_type": "execute_result"
    }
   ],
   "source": [
    "#Define table schema\n",
    "engine.execute('''CREATE TABLE Weather (Season INTEGER PRIMARY KEY,\n",
    "              AvgMaxTemp NUMERIC,\n",
    "              AvgMinTemp NUMERIC,\n",
    "              TotalPrecip NUMERIC,\n",
    "              TotalSnowfall NUMERIC,\n",
    "              Total_Days_6in_Base INTEGER,\n",
    "              MaxRolling5Year NUMERIC,\n",
    "              MinRolling5Year NUMERIC)''')"
   ]
  },
  {
   "cell_type": "code",
   "execution_count": 300,
   "id": "c237cbec",
   "metadata": {},
   "outputs": [
    {
     "name": "stdout",
     "output_type": "stream",
     "text": [
      "2023-04-13 22:06:03,993 INFO sqlalchemy.engine.Engine PRAGMA main.table_info(\"Weather\")\n"
     ]
    },
    {
     "name": "stderr",
     "output_type": "stream",
     "text": [
      "INFO:sqlalchemy.engine.Engine:PRAGMA main.table_info(\"Weather\")\n"
     ]
    },
    {
     "name": "stdout",
     "output_type": "stream",
     "text": [
      "2023-04-13 22:06:03,999 INFO sqlalchemy.engine.Engine [raw sql] ()\n"
     ]
    },
    {
     "name": "stderr",
     "output_type": "stream",
     "text": [
      "INFO:sqlalchemy.engine.Engine:[raw sql] ()\n"
     ]
    },
    {
     "name": "stdout",
     "output_type": "stream",
     "text": [
      "2023-04-13 22:06:04,011 INFO sqlalchemy.engine.Engine BEGIN (implicit)\n"
     ]
    },
    {
     "name": "stderr",
     "output_type": "stream",
     "text": [
      "INFO:sqlalchemy.engine.Engine:BEGIN (implicit)\n"
     ]
    },
    {
     "name": "stdout",
     "output_type": "stream",
     "text": [
      "2023-04-13 22:06:04,060 INFO sqlalchemy.engine.Engine INSERT INTO \"Weather\" (\"Season\", \"AvgMaxTemp\", \"AvgMinTemp\", \"TotalPrecip\", \"TotalSnowfall\", \"Total_Days_6in_Base\", \"MaxRolling5Year\", \"MinRolling5Year\") VALUES (?, ?, ?, ?, ?, ?, ?, ?)\n"
     ]
    },
    {
     "name": "stderr",
     "output_type": "stream",
     "text": [
      "INFO:sqlalchemy.engine.Engine:INSERT INTO \"Weather\" (\"Season\", \"AvgMaxTemp\", \"AvgMinTemp\", \"TotalPrecip\", \"TotalSnowfall\", \"Total_Days_6in_Base\", \"MaxRolling5Year\", \"MinRolling5Year\") VALUES (?, ?, ?, ?, ?, ?, ?, ?)\n"
     ]
    },
    {
     "name": "stdout",
     "output_type": "stream",
     "text": [
      "2023-04-13 22:06:04,064 INFO sqlalchemy.engine.Engine [generated in 0.04772s] ((1900, 25.833333333333332, 8.933333333333334, 2.3, 17.099999999999998, 4, None, None), (1901, 24.31111111111111, 8.277777777777779, 0.9400000000000001, 14.6, 0, None, None), (1902, 25.566666666666666, 9.577777777777778, 1.37, 16.900000000000002, 0, None, None), (1903, 23.522222222222222, 6.4, 3.3300000000000005, 30.8, 22, None, None), (1904, 16.32967032967033, 0.5054945054945055, 1.8200000000000007, 30.0, 26, 23.112600732600733, 6.738876678876679), (1905, 21.244444444444444, 4.955555555555556, 1.9100000000000006, 29.800000000000004, 17, 22.194822954822953, 5.943321123321123), (1906, 28.255555555555556, 12.1, 1.9600000000000002, 24.099999999999998, 17, 22.98371184371184, 6.707765567765567), (1907, 22.944444444444443, 6.566666666666666, 2.4499999999999993, 33.0, 32, 22.4592673992674, 6.105543345543346)  ... displaying 10 of 124 total bound parameter sets ...  (2022, 25.844444444444445, 7.388888888888889, 3.3700000000000006, 42.3, 34, 26.377460317460354, 10.884224664224657), (2023, 26.666666666666668, 12.733333333333333, 6.4499999999999975, 57.6, 65, 26.701904761904796, 11.570891330891325))\n"
     ]
    },
    {
     "name": "stderr",
     "output_type": "stream",
     "text": [
      "INFO:sqlalchemy.engine.Engine:[generated in 0.04772s] ((1900, 25.833333333333332, 8.933333333333334, 2.3, 17.099999999999998, 4, None, None), (1901, 24.31111111111111, 8.277777777777779, 0.9400000000000001, 14.6, 0, None, None), (1902, 25.566666666666666, 9.577777777777778, 1.37, 16.900000000000002, 0, None, None), (1903, 23.522222222222222, 6.4, 3.3300000000000005, 30.8, 22, None, None), (1904, 16.32967032967033, 0.5054945054945055, 1.8200000000000007, 30.0, 26, 23.112600732600733, 6.738876678876679), (1905, 21.244444444444444, 4.955555555555556, 1.9100000000000006, 29.800000000000004, 17, 22.194822954822953, 5.943321123321123), (1906, 28.255555555555556, 12.1, 1.9600000000000002, 24.099999999999998, 17, 22.98371184371184, 6.707765567765567), (1907, 22.944444444444443, 6.566666666666666, 2.4499999999999993, 33.0, 32, 22.4592673992674, 6.105543345543346)  ... displaying 10 of 124 total bound parameter sets ...  (2022, 25.844444444444445, 7.388888888888889, 3.3700000000000006, 42.3, 34, 26.377460317460354, 10.884224664224657), (2023, 26.666666666666668, 12.733333333333333, 6.4499999999999975, 57.6, 65, 26.701904761904796, 11.570891330891325))\n"
     ]
    },
    {
     "name": "stdout",
     "output_type": "stream",
     "text": [
      "2023-04-13 22:06:04,071 INFO sqlalchemy.engine.Engine COMMIT\n"
     ]
    },
    {
     "name": "stderr",
     "output_type": "stream",
     "text": [
      "INFO:sqlalchemy.engine.Engine:COMMIT\n"
     ]
    },
    {
     "name": "stdout",
     "output_type": "stream",
     "text": [
      "2023-04-13 22:06:04,075 INFO sqlalchemy.engine.Engine SELECT name FROM sqlite_master WHERE type='table' ORDER BY name\n"
     ]
    },
    {
     "name": "stderr",
     "output_type": "stream",
     "text": [
      "INFO:sqlalchemy.engine.Engine:SELECT name FROM sqlite_master WHERE type='table' ORDER BY name\n"
     ]
    },
    {
     "name": "stdout",
     "output_type": "stream",
     "text": [
      "2023-04-13 22:06:04,085 INFO sqlalchemy.engine.Engine [raw sql] ()\n"
     ]
    },
    {
     "name": "stderr",
     "output_type": "stream",
     "text": [
      "INFO:sqlalchemy.engine.Engine:[raw sql] ()\n"
     ]
    }
   ],
   "source": [
    "#Export pandas dataframe into sqllite table we created\n",
    "sqlite_table = \"Weather\"\n",
    "Summary.to_sql(sqlite_table, sqlite_connection, if_exists='append',index=False)"
   ]
  },
  {
   "cell_type": "code",
   "execution_count": 28,
   "id": "5ebe9d3d",
   "metadata": {},
   "outputs": [],
   "source": [
    "#Remove extra columns\n",
    "df = df[['Date','MaxTemp','MinTemp','Precipitation','SnowFall','SnowDepth']]"
   ]
  },
  {
   "cell_type": "code",
   "execution_count": 34,
   "id": "2bf0fe04",
   "metadata": {},
   "outputs": [
    {
     "name": "stdout",
     "output_type": "stream",
     "text": [
      "2023-04-14 07:49:31,965 INFO sqlalchemy.engine.Engine DROP TABLE DailyWeather\n",
      "2023-04-14 07:49:31,967 INFO sqlalchemy.engine.Engine [raw sql] ()\n",
      "2023-04-14 07:49:31,973 INFO sqlalchemy.engine.Engine COMMIT\n"
     ]
    },
    {
     "data": {
      "text/plain": [
       "<sqlalchemy.engine.cursor.LegacyCursorResult at 0x7f9aac5b2fd0>"
      ]
     },
     "execution_count": 34,
     "metadata": {},
     "output_type": "execute_result"
    }
   ],
   "source": [
    "engine.execute('DROP TABLE DailyWeather')"
   ]
  },
  {
   "cell_type": "code",
   "execution_count": 35,
   "id": "3eb3ed36",
   "metadata": {},
   "outputs": [
    {
     "name": "stdout",
     "output_type": "stream",
     "text": [
      "2023-04-14 07:49:35,757 INFO sqlalchemy.engine.Engine CREATE TABLE DailyWeather (Date DATETIME PRIMARY KEY,\n",
      "              MaxTemp INTEGER,\n",
      "              MinTemp INTEGER,\n",
      "              Precipitation NUMERIC,\n",
      "              Snowfall NUMERIC,\n",
      "              SnowDepth NUMERIC)\n",
      "2023-04-14 07:49:35,759 INFO sqlalchemy.engine.Engine [raw sql] ()\n",
      "2023-04-14 07:49:35,762 INFO sqlalchemy.engine.Engine COMMIT\n"
     ]
    },
    {
     "data": {
      "text/plain": [
       "<sqlalchemy.engine.cursor.LegacyCursorResult at 0x7f9aac56aed0>"
      ]
     },
     "execution_count": 35,
     "metadata": {},
     "output_type": "execute_result"
    }
   ],
   "source": [
    "#Define schema for Daily Weather table\n",
    "engine.execute('''CREATE TABLE DailyWeather (Date DATETIME PRIMARY KEY,\n",
    "              MaxTemp INTEGER,\n",
    "              MinTemp INTEGER,\n",
    "              Precipitation NUMERIC,\n",
    "              Snowfall NUMERIC,\n",
    "              SnowDepth NUMERIC)''')"
   ]
  },
  {
   "cell_type": "code",
   "execution_count": 36,
   "id": "d6833cf0",
   "metadata": {},
   "outputs": [
    {
     "name": "stdout",
     "output_type": "stream",
     "text": [
      "2023-04-14 07:49:39,806 INFO sqlalchemy.engine.Engine PRAGMA main.table_info(\"DailyWeather\")\n",
      "2023-04-14 07:49:39,807 INFO sqlalchemy.engine.Engine [raw sql] ()\n",
      "2023-04-14 07:49:39,841 INFO sqlalchemy.engine.Engine BEGIN (implicit)\n",
      "2023-04-14 07:49:40,548 INFO sqlalchemy.engine.Engine INSERT INTO \"DailyWeather\" (\"Date\", \"MaxTemp\", \"MinTemp\", \"Precipitation\", \"SnowFall\", \"SnowDepth\") VALUES (?, ?, ?, ?, ?, ?)\n",
      "2023-04-14 07:49:40,548 INFO sqlalchemy.engine.Engine [generated in 0.63896s] (('2023-04-09 00:00:00.000000', 66, 47, 0.0, 0.0, 0.0), ('2023-04-08 00:00:00.000000', 67, 37, 0.0, 0.0, 0.0), ('2023-04-07 00:00:00.000000', 51, 26, 0.0, 0.0, 0.0), ('2023-04-06 00:00:00.000000', 38, 22, 0.0, 0.0, 0.0), ('2023-04-05 00:00:00.000000', 37, 25, 0.01, 0.0, 0.0), ('2023-04-04 00:00:00.000000', 38, 34, 0.06, 0.0, 0.0), ('2023-04-03 00:00:00.000000', 44, 35, 0.0, 0.0, 2.0), ('2023-04-02 00:00:00.000000', 51, 25, 0.0, 0.0, 6.0)  ... displaying 10 of 45348 total bound parameter sets ...  ('1899-01-02 00:00:00.000000', 29, 10, 0.0, 0.0, 3.0), ('1899-01-01 00:00:00.000000', 11, -12, 0.0, 0.0, 3.0))\n",
      "2023-04-14 07:49:40,694 INFO sqlalchemy.engine.Engine COMMIT\n",
      "2023-04-14 07:49:40,708 INFO sqlalchemy.engine.Engine SELECT name FROM sqlite_master WHERE type='table' ORDER BY name\n",
      "2023-04-14 07:49:40,709 INFO sqlalchemy.engine.Engine [raw sql] ()\n"
     ]
    }
   ],
   "source": [
    "#Export dataframe into created table\n",
    "sqlite_table = \"DailyWeather\"\n",
    "df.to_sql(sqlite_table, sqlite_connection, if_exists='append',index=False)"
   ]
  },
  {
   "cell_type": "code",
   "execution_count": null,
   "id": "d77a9ed8",
   "metadata": {},
   "outputs": [],
   "source": []
  }
 ],
 "metadata": {
  "kernelspec": {
   "display_name": "Python 3 (ipykernel)",
   "language": "python",
   "name": "python3"
  },
  "language_info": {
   "codemirror_mode": {
    "name": "ipython",
    "version": 3
   },
   "file_extension": ".py",
   "mimetype": "text/x-python",
   "name": "python",
   "nbconvert_exporter": "python",
   "pygments_lexer": "ipython3",
   "version": "3.7.7"
  }
 },
 "nbformat": 4,
 "nbformat_minor": 5
}
